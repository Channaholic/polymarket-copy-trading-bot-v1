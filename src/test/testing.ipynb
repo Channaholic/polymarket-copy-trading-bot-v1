{
 "cells": [
  {
   "cell_type": "code",
   "execution_count": 2,
   "id": "ed3e0c88",
   "metadata": {},
   "outputs": [
    {
     "name": "stdout",
     "output_type": "stream",
     "text": [
      "ratio 0.009900990099009901\n"
     ]
    }
   ],
   "source": [
    "my_balance = 100\n",
    "user_balance = 10000\n",
    "usdcSize = 100\n",
    "\n",
    "\n",
    "ratio = my_balance / (user_balance + usdcSize)\n",
    "print('ratio', ratio)"
   ]
  },
  {
   "cell_type": "code",
   "execution_count": null,
   "id": "f9fbb976",
   "metadata": {},
   "outputs": [],
   "source": []
  }
 ],
 "metadata": {
  "kernelspec": {
   "display_name": "ml-fin-data",
   "language": "python",
   "name": "python3"
  },
  "language_info": {
   "codemirror_mode": {
    "name": "ipython",
    "version": 3
   },
   "file_extension": ".py",
   "mimetype": "text/x-python",
   "name": "python",
   "nbconvert_exporter": "python",
   "pygments_lexer": "ipython3",
   "version": "3.10.8"
  }
 },
 "nbformat": 4,
 "nbformat_minor": 5
}
